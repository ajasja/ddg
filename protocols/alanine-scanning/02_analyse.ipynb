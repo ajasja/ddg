{
 "cells": [
  {
   "cell_type": "code",
   "execution_count": 1,
   "metadata": {},
   "outputs": [
    {
     "name": "stdout",
     "output_type": "stream",
     "text": [
      "/mnt/home/ajasja/gits/ddg/protocols/alanine-scanning\n",
      "jojo\n"
     ]
    }
   ],
   "source": [
    "!pwd\n",
    "!hostname"
   ]
  },
  {
   "cell_type": "code",
   "execution_count": 3,
   "metadata": {},
   "outputs": [],
   "source": [
    "import sys"
   ]
  },
  {
   "cell_type": "code",
   "execution_count": 7,
   "metadata": {},
   "outputs": [
    {
     "name": "stdout",
     "output_type": "stream",
     "text": [
      "Found 293 output dbs (380 expected)\n",
      "('########', 'ddg_obs', 'vs', 'tanja_ddg_calc', '########')\n",
      "#### Points in interface: ####\n",
      "Fraction correct                : 0.718\n",
      "Fraction correct (fuzzy)        : 0.729\n",
      "Gamma correlation coef.         : 0.380\n",
      "Kolmogorov-Smirnov test (XY)    : 0.126 (2-tailed p-value=0.11442777090332949)\n",
      "MAE                             : 1.002\n",
      "Pearson's R                     : 0.563 (2-tailed p-value=6.413310000020209e-16)\n",
      "Spearman's R                    : 0.530 (2-tailed p-value=5.464198531579694e-14)\n",
      "X-axis Kolmogorov-Smirnov test  : 0.397 (p-value=0.0)\n",
      "X-axis normality test           : 47.074 (2-sided chi^2 p-value=5.999348414328336e-11)\n",
      "Y-axis Kolmogorov-Smirnov test  : 0.454 (p-value=0.0)\n",
      "Y-axis normality test           : 95.156 (2-sided chi^2 p-value=2.1732644047536004e-21)\n",
      "\n",
      "Traceback (most recent call last):\n",
      "  File \"analyze.py\", line 202, in <module>\n",
      "    compress(all_data_points[j], data_id_in_interface)\n",
      "  File \"analyze.py\", line 175, in run_stats\n",
      "    stats.RInterface.correlation_coefficient_gplot\n",
      "  File \"/mnt/home/ajasja/gits/ddg/protocols/alanine-scanning/analysis/stats.py\", line 421, in plot\n",
      "    input_filename = create_csv(analysis_table)\n",
      "  File \"/mnt/home/ajasja/gits/ddg/protocols/alanine-scanning/analysis/stats.py\", line 121, in create_csv\n",
      "    contents = '\\n'.join(['DatasetID,Experimental,Predicted'] + ['%s,%s,%s' % (str(l['DatasetID']), str(l['Experimental']), str(l['Predicted'])) for l in analysis_table])\n",
      "  File \"/mnt/home/ajasja/gits/ddg/protocols/alanine-scanning/analysis/stats.py\", line 121, in <listcomp>\n",
      "    contents = '\\n'.join(['DatasetID,Experimental,Predicted'] + ['%s,%s,%s' % (str(l['DatasetID']), str(l['Experimental']), str(l['Predicted'])) for l in analysis_table])\n",
      "KeyError: 'DatasetID'\n"
     ]
    }
   ],
   "source": [
    "!{sys.executable} analyze.py /mnt/home/ajasja/gits/ddg/protocols/alanine-scanning/job_output/190628-ajasja_setup_alanine_scanning"
   ]
  },
  {
   "cell_type": "code",
   "execution_count": 86,
   "metadata": {},
   "outputs": [
    {
     "name": "stdout",
     "output_type": "stream",
     "text": [
      "Python version: 3.6.8 |Anaconda, Inc.| (default, Dec 30 2018, 01:22:34) \n",
      "[GCC 7.3.0]\n",
      "Hostname: jojo\n",
      "cPickle not available, using regular pickle module\n",
      "Script: alascan_run.py\n",
      "\n",
      "\n",
      "Starting running script locally\n",
      "Starting time: 2019-06-28 12:14:09.745605\n",
      "Task id: 0\n",
      "Job dir: 1A22/1A2214/talaris2014\n",
      "Temporary data dir: /tmp/0.0_data_vg4rynly\n",
      "Temporary output dir: /tmp/0.0_output_aq06v_8f\n",
      "Copied file to local scratch: 1A22_0001.pdb\n",
      "Copied file to local scratch: alascan.xml\n",
      "Copied file to local scratch: 1A2214.mutation.resfile\n",
      "Copied file to local scratch: 1A2214.pack.resfile\n",
      "Args:\n",
      "['/home/ajasja/Rosetta/main/source/bin/rosetta_scripts.linuxgccrelease', '-in:file:s', '../0.0_data_vg4rynly/1A22_0001.pdb', '-parser:protocol', '../0.0_data_vg4rynly/alascan.xml', '-parser:script_vars', 'PDBPosID=1A2214', 'currentscorefxn=talaris2014', 'currentrepackscorefxn=talaris2014', 'chainstomove=2', 'currentpackscorefxn=talaris2014', 'pathtoresfile=../0.0_data_vg4rynly/1A2214.mutation.resfile', 'pathtopackresfile=../0.0_data_vg4rynly/1A2214.pack.resfile', 'numberscanrepeats=1', 'repackbound=false', 'repackunbound=false', '-parser:view', '-inout:dbms:mode', 'sqlite3', '-inout:dbms:database_name', 'rosetta_output.db3', '-no_optH', 'true', '-restore_talaris_behavior']\n",
      "\n",
      "Rosetta return code: 0 \n",
      "\n",
      "Making new job output directory:  /mnt/home/ajasja/gits/ddg/protocols/alanine-scanning/job_output/190628-ajasja_setup_alanine_scanning/1A22/1A2214/talaris2014\n",
      "Ending time: 2019-06-28 12:14:18.318428\n",
      "Elapsed time: 0:00:08.572823\n",
      "  Processed: 1 files (0.3%) 53:32\n",
      "Done running script locally, processed 1 files, took 8.498 seconds\n",
      "\n"
     ]
    }
   ],
   "source": [
    "!cd {job_dir} && python3 alascan_run.py 0"
   ]
  },
  {
   "cell_type": "code",
   "execution_count": 87,
   "metadata": {},
   "outputs": [],
   "source": [
    "job_pickle_file = f'{job_dir}/data/job_dict.pickle'\n",
    "import pickle\n",
    "p = open(job_pickle_file,'rb')\n",
    "job_dict = pickle.load(p)\n",
    "p.close()"
   ]
  },
  {
   "cell_type": "code",
   "execution_count": 88,
   "metadata": {},
   "outputs": [],
   "source": [
    "job_dict;"
   ]
  },
  {
   "cell_type": "code",
   "execution_count": 89,
   "metadata": {},
   "outputs": [],
   "source": [
    "GROUP_SIZE=20\n",
    "task_list = f'{job_dir}/task.list'\n",
    "num_tasks = !wc -l <{task_list}\n",
    "num_tasks = int(num_tasks[0])"
   ]
  },
  {
   "cell_type": "code",
   "execution_count": 91,
   "metadata": {},
   "outputs": [
    {
     "name": "stdout",
     "output_type": "stream",
     "text": [
      "Python version: 3.6.8 |Anaconda, Inc.| (default, Dec 30 2018, 01:22:34) \n",
      "[GCC 7.3.0]\n",
      "Hostname: jojo\n",
      "cPickle not available, using regular pickle module\n",
      "Script: alascan_run.py\n",
      "\n",
      "\n",
      "Starting running script locally\n",
      "Starting time: 2019-06-28 12:14:42.693703\n",
      "Task id: 0\n",
      "Job dir: 1A22/1A2214/talaris2014\n",
      "Temporary data dir: /tmp/0.0_data_9f9g73uy\n",
      "Temporary output dir: /tmp/0.0_output_ni1rug0q\n",
      "Copied file to local scratch: 1A22_0001.pdb\n",
      "Copied file to local scratch: alascan.xml\n",
      "Copied file to local scratch: 1A2214.mutation.resfile\n",
      "Copied file to local scratch: 1A2214.pack.resfile\n",
      "Args:\n",
      "['/home/ajasja/Rosetta/main/source/bin/rosetta_scripts.linuxgccrelease', '-in:file:s', '../0.0_data_9f9g73uy/1A22_0001.pdb', '-parser:protocol', '../0.0_data_9f9g73uy/alascan.xml', '-parser:script_vars', 'PDBPosID=1A2214', 'currentscorefxn=talaris2014', 'currentrepackscorefxn=talaris2014', 'chainstomove=2', 'currentpackscorefxn=talaris2014', 'pathtoresfile=../0.0_data_9f9g73uy/1A2214.mutation.resfile', 'pathtopackresfile=../0.0_data_9f9g73uy/1A2214.pack.resfile', 'numberscanrepeats=1', 'repackbound=false', 'repackunbound=false', '-parser:view', '-inout:dbms:mode', 'sqlite3', '-inout:dbms:database_name', 'rosetta_output.db3', '-no_optH', 'true', '-restore_talaris_behavior']\n",
      "\n",
      "Rosetta return code: 0 \n",
      "\n",
      "Ending time: 2019-06-28 12:14:51.414452\n",
      "Elapsed time: 0:00:08.720749\n",
      "  Processed: 1 files (0.3%) 52:36\n",
      "Done running script locally, processed 1 files, took 8.399 seconds\n",
      "\n"
     ]
    }
   ],
   "source": [
    "import truncator\n",
    "cmds = truncator.read_file_lines(task_list, trim=True)\n",
    "!{cmds[0]}"
   ]
  },
  {
   "cell_type": "code",
   "execution_count": 92,
   "metadata": {},
   "outputs": [
    {
     "data": {
      "text/plain": [
       "19"
      ]
     },
     "execution_count": 92,
     "metadata": {},
     "output_type": "execute_result"
    }
   ],
   "source": [
    "from math import ceil; num_jobs = ceil(num_tasks/GROUP_SIZE)\n",
    "num_jobs"
   ]
  },
  {
   "cell_type": "code",
   "execution_count": 93,
   "metadata": {},
   "outputs": [
    {
     "name": "stdout",
     "output_type": "stream",
     "text": [
      "Submitted batch job 19891961\n"
     ]
    }
   ],
   "source": [
    "!export GROUP_SIZE={GROUP_SIZE}; sbatch --mem=2GB -p short -J {task_list} -o {task_list}.out -e {task_list}.err -a 1-{num_jobs} wrapper_digs_array_job_group.sh {task_list} "
   ]
  },
  {
   "cell_type": "code",
   "execution_count": 100,
   "metadata": {},
   "outputs": [
    {
     "name": "stdout",
     "output_type": "stream",
     "text": [
      "^C\n"
     ]
    }
   ],
   "source": [
    "!squeue -u ajasja"
   ]
  },
  {
   "cell_type": "code",
   "execution_count": null,
   "metadata": {},
   "outputs": [],
   "source": []
  }
 ],
 "metadata": {
  "kernelspec": {
   "display_name": "Python 3",
   "language": "python",
   "name": "python3"
  },
  "language_info": {
   "codemirror_mode": {
    "name": "ipython",
    "version": 3
   },
   "file_extension": ".py",
   "mimetype": "text/x-python",
   "name": "python",
   "nbconvert_exporter": "python",
   "pygments_lexer": "ipython3",
   "version": "3.6.8"
  }
 },
 "nbformat": 4,
 "nbformat_minor": 2
}
