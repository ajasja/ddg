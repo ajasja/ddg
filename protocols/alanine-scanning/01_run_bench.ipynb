{
 "cells": [
  {
   "cell_type": "code",
   "execution_count": 121,
   "metadata": {},
   "outputs": [
    {
     "name": "stdout",
     "output_type": "stream",
     "text": [
      "190628-ajasja_setup_alanine_scanning\n",
      "/mnt/home/ajasja/gits/ddg/protocols/alanine-scanning\n"
     ]
    }
   ],
   "source": [
    "!ls job_output\n",
    "!rm -fr job_output\n",
    "!pwd"
   ]
  },
  {
   "cell_type": "code",
   "execution_count": 122,
   "metadata": {},
   "outputs": [],
   "source": [
    "job_dir = !python3 setup_alanine_scanning.py \n",
    "#Parsing line in the form \"Job: /path/to/dir\"\n",
    "job_dir = job_dir[0].split(':')[1].strip()"
   ]
  },
  {
   "cell_type": "code",
   "execution_count": 123,
   "metadata": {},
   "outputs": [
    {
     "data": {
      "text/plain": [
       "'/mnt/home/ajasja/gits/ddg/protocols/alanine-scanning/job_output/190628-ajasja_setup_alanine_scanning'"
      ]
     },
     "execution_count": 123,
     "metadata": {},
     "output_type": "execute_result"
    }
   ],
   "source": [
    "job_dir"
   ]
  },
  {
   "cell_type": "code",
   "execution_count": 124,
   "metadata": {},
   "outputs": [],
   "source": [
    "job_pickle_file = f'{job_dir}/data/job_dict.pickle'\n",
    "import pickle\n",
    "p = open(job_pickle_file,'rb')\n",
    "job_dict = pickle.load(p)\n",
    "p.close()"
   ]
  },
  {
   "cell_type": "code",
   "execution_count": 125,
   "metadata": {},
   "outputs": [],
   "source": [
    "job_dict;"
   ]
  },
  {
   "cell_type": "code",
   "execution_count": 126,
   "metadata": {},
   "outputs": [],
   "source": [
    "GROUP_SIZE=20\n",
    "task_list = f'{job_dir}/task.list'\n",
    "num_tasks = !wc -l <{task_list}\n",
    "num_tasks = int(num_tasks[0])"
   ]
  },
  {
   "cell_type": "code",
   "execution_count": 127,
   "metadata": {},
   "outputs": [
    {
     "name": "stdout",
     "output_type": "stream",
     "text": [
      "Python version: 3.6.8 |Anaconda, Inc.| (default, Dec 30 2018, 01:22:34) \n",
      "[GCC 7.3.0]\n",
      "Hostname: jojo\n",
      "cPickle not available, using regular pickle module\n",
      "Script: alascan_run.py\n",
      "\n",
      "Starting time: 2019-06-28 18:01:37.051491\n",
      "Task id: 0\n",
      "Job dir: 1A22/1A2214/talaris2014\n",
      "Temporary data dir: /tmp/0.0_data_tpipdlfg\n",
      "Temporary output dir: /tmp/0.0_output_diriunsz\n",
      "Copied file to local scratch: 1A22_0001.pdb\n",
      "Copied file to local scratch: alascan.xml\n",
      "Copied file to local scratch: 1A2214.mutation.resfile\n",
      "Copied file to local scratch: 1A2214.pack.resfile\n",
      "Args:\n",
      "['/home/ajasja/Rosetta/main/source/bin/rosetta_scripts.linuxgccrelease', '-in:file:s', '../0.0_data_tpipdlfg/1A22_0001.pdb', '-parser:protocol', '../0.0_data_tpipdlfg/alascan.xml', '-parser:script_vars', 'PDBPosID=1A2214', 'currentscorefxn=talaris2014', 'currentrepackscorefxn=talaris2014', 'chainstomove=2', 'currentpackscorefxn=talaris2014', 'pathtoresfile=../0.0_data_tpipdlfg/1A2214.mutation.resfile', 'pathtopackresfile=../0.0_data_tpipdlfg/1A2214.pack.resfile', 'numberscanrepeats=1', 'repackbound=false', 'repackunbound=false', '-parser:view', '-inout:dbms:mode', 'sqlite3', '-inout:dbms:database_name', 'rosetta_output.db3', '-no_optH', 'true', '-restore_talaris_behavior']\n",
      "\n",
      "Rosetta return code: 0 \n",
      "\n",
      "Making new job output directory:  /mnt/home/ajasja/gits/ddg/protocols/alanine-scanning/job_output/190628-ajasja_setup_alanine_scanning/1A22/1A2214/talaris2014\n",
      "Ending time: 2019-06-28 18:01:45.515503\n",
      "Elapsed time: 0:00:08.464012\n"
     ]
    }
   ],
   "source": [
    "import truncator\n",
    "cmds = truncator.read_file_lines(task_list, trim=True)\n",
    "!{cmds[0]}"
   ]
  },
  {
   "cell_type": "code",
   "execution_count": 128,
   "metadata": {},
   "outputs": [
    {
     "data": {
      "text/plain": [
       "19"
      ]
     },
     "execution_count": 128,
     "metadata": {},
     "output_type": "execute_result"
    }
   ],
   "source": [
    "from math import ceil; num_jobs = ceil(num_tasks/GROUP_SIZE)\n",
    "num_jobs"
   ]
  },
  {
   "cell_type": "code",
   "execution_count": 129,
   "metadata": {},
   "outputs": [
    {
     "name": "stdout",
     "output_type": "stream",
     "text": [
      "Submitted batch job 19982951\n"
     ]
    }
   ],
   "source": [
    "!export GROUP_SIZE={GROUP_SIZE}; sbatch --mem=2GB -p short -J {task_list} -o {task_list}.out -e {task_list}.err -a 1-{num_jobs} wrapper_digs_array_job_group.sh {task_list} "
   ]
  },
  {
   "cell_type": "code",
   "execution_count": 133,
   "metadata": {},
   "outputs": [
    {
     "name": "stdout",
     "output_type": "stream",
     "text": [
      "             JOBID PARTITION     NAME     USER ST       TIME  NODES NODELIST(REASON)\n",
      "        19982951_1     short /mnt/hom   ajasja  R       1:50      1 dig37\n",
      "        19982951_2     short /mnt/hom   ajasja  R       1:50      1 dig62\n",
      "        19982951_3     short /mnt/hom   ajasja  R       1:50      1 dig71\n",
      "        19982951_4     short /mnt/hom   ajasja  R       1:50      1 dig101\n",
      "        19982951_5     short /mnt/hom   ajasja  R       1:50      1 dig35\n",
      "        19982951_6     short /mnt/hom   ajasja  R       1:50      1 dig35\n",
      "        19982951_7     short /mnt/hom   ajasja  R       1:50      1 dig35\n",
      "        19982951_8     short /mnt/hom   ajasja  R       1:50      1 dig73\n",
      "        19982951_9     short /mnt/hom   ajasja  R       1:50      1 dig73\n",
      "       19982951_10     short /mnt/hom   ajasja  R       1:50      1 dig73\n",
      "       19982951_11     short /mnt/hom   ajasja  R       1:50      1 dig73\n",
      "       19982951_12     short /mnt/hom   ajasja  R       1:50      1 dig75\n",
      "       19982951_13     short /mnt/hom   ajasja  R       1:50      1 dig75\n",
      "       19982951_14     short /mnt/hom   ajasja  R       1:50      1 dig76\n",
      "       19982951_15     short /mnt/hom   ajasja  R       1:50      1 dig76\n",
      "       19982951_16     short /mnt/hom   ajasja  R       1:50      1 dig78\n",
      "       19982951_17     short /mnt/hom   ajasja  R       1:50      1 dig80\n",
      "       19982951_18     short /mnt/hom   ajasja  R       1:50      1 dig79\n",
      "       19982951_19     short /mnt/hom   ajasja  R       1:50      1 dig79\n"
     ]
    }
   ],
   "source": [
    "!squeue -u ajasja"
   ]
  },
  {
   "cell_type": "code",
   "execution_count": 120,
   "metadata": {},
   "outputs": [],
   "source": [
    "!scancel 19981214"
   ]
  },
  {
   "cell_type": "code",
   "execution_count": null,
   "metadata": {},
   "outputs": [],
   "source": []
  }
 ],
 "metadata": {
  "kernelspec": {
   "display_name": "Python 3",
   "language": "python",
   "name": "python3"
  },
  "language_info": {
   "codemirror_mode": {
    "name": "ipython",
    "version": 3
   },
   "file_extension": ".py",
   "mimetype": "text/x-python",
   "name": "python",
   "nbconvert_exporter": "python",
   "pygments_lexer": "ipython3",
   "version": "3.6.8"
  }
 },
 "nbformat": 4,
 "nbformat_minor": 2
}
