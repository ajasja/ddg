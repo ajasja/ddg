{
 "cells": [
  {
   "cell_type": "code",
   "execution_count": 58,
   "metadata": {},
   "outputs": [
    {
     "name": "stdout",
     "output_type": "stream",
     "text": [
      "190627-ajasja_setup_alanine_scanning\n",
      "/mnt/home/ajasja/gits/ddg/protocols/alanine-scanning\n"
     ]
    }
   ],
   "source": [
    "!ls job_output\n",
    "!rm -fr job_output\n",
    "!pwd"
   ]
  },
  {
   "cell_type": "code",
   "execution_count": 69,
   "metadata": {},
   "outputs": [],
   "source": [
    "job_dir = !python3 setup_alanine_scanning.py \n",
    "job_dir = job_dir[0].split(':')[1].strip()"
   ]
  },
  {
   "cell_type": "code",
   "execution_count": 70,
   "metadata": {},
   "outputs": [
    {
     "data": {
      "text/plain": [
       "'/mnt/home/ajasja/gits/ddg/protocols/alanine-scanning/job_output/190628-ajasja_setup_alanine_scanning'"
      ]
     },
     "execution_count": 70,
     "metadata": {},
     "output_type": "execute_result"
    }
   ],
   "source": [
    "job_dir"
   ]
  },
  {
   "cell_type": "code",
   "execution_count": 61,
   "metadata": {},
   "outputs": [
    {
     "name": "stdout",
     "output_type": "stream",
     "text": [
      "Python version: 3.6.8 |Anaconda, Inc.| (default, Dec 30 2018, 01:22:34) \n",
      "[GCC 7.3.0]\n",
      "Hostname: jojo\n",
      "cPickle not available, using regular pickle module\n",
      "Script: alascan_run.py\n",
      "\n",
      "\n",
      "Starting running script locally\n",
      "Starting time: 2019-06-28 12:05:24.910477\n",
      "Task id: 0\n",
      "Job dir: 1A22/1A2214/talaris2014\n",
      "Temporary data dir: /tmp/0.0_data_tap8355o\n",
      "Temporary output dir: /tmp/0.0_output_085hr5hd\n",
      "Copied file to local scratch: 1A22_0001.pdb\n",
      "Copied file to local scratch: alascan.xml\n",
      "Copied file to local scratch: 1A2214.mutation.resfile\n",
      "Copied file to local scratch: 1A2214.pack.resfile\n",
      "Args:\n",
      "['/home/ajasja/Rosetta/main/source/bin/rosetta_scripts.linuxgccrelease', '-in:file:s', '../0.0_data_tap8355o/1A22_0001.pdb', '-parser:protocol', '../0.0_data_tap8355o/alascan.xml', '-parser:script_vars', 'PDBPosID=1A2214', 'currentscorefxn=talaris2014', 'currentrepackscorefxn=talaris2014', 'chainstomove=2', 'currentpackscorefxn=talaris2014', 'pathtoresfile=../0.0_data_tap8355o/1A2214.mutation.resfile', 'pathtopackresfile=../0.0_data_tap8355o/1A2214.pack.resfile', 'numberscanrepeats=1', 'repackbound=false', 'repackunbound=false', '-parser:view', '-inout:dbms:mode', 'sqlite3', '-inout:dbms:database_name', 'rosetta_output.db3', '-no_optH', 'true', '-restore_talaris_behavior']\n",
      "\n",
      "Rosetta return code: 0 \n",
      "\n",
      "Making new job output directory:  /mnt/home/ajasja/gits/ddg/protocols/alanine-scanning/job_output/190628-ajasja_setup_alanine_scanning/1A22/1A2214/talaris2014\n",
      "Ending time: 2019-06-28 12:05:35.812431\n",
      "Elapsed time: 0:00:10.901954\n",
      "  Processed: 1 files (0.3%) 70:26\n",
      "Done running script locally, processed 1 files, took 11.217 seconds\n",
      "\n"
     ]
    }
   ],
   "source": [
    "!cd {job_dir} && python3 alascan_run.py 0"
   ]
  },
  {
   "cell_type": "code",
   "execution_count": 63,
   "metadata": {},
   "outputs": [],
   "source": [
    "job_pickle_file = '{job_dir}/data/job_dict.pickle'\n",
    "import pickle\n",
    "p = open(job_pickle_file,'rb')\n",
    "job_dict = pickle.load(p)\n",
    "p.close()"
   ]
  },
  {
   "cell_type": "code",
   "execution_count": 64,
   "metadata": {},
   "outputs": [],
   "source": [
    "job_dict;"
   ]
  },
  {
   "cell_type": "code",
   "execution_count": 65,
   "metadata": {},
   "outputs": [
    {
     "ename": "ValueError",
     "evalue": "invalid literal for int() with base 10: '/bin/bash: job_output/190627-ajasja_setup_alanine_scanning/task.list: No such file or directory'",
     "output_type": "error",
     "traceback": [
      "\u001b[0;31m---------------------------------------------------------------------------\u001b[0m",
      "\u001b[0;31mValueError\u001b[0m                                Traceback (most recent call last)",
      "\u001b[0;32m<ipython-input-65-f3c9bc6e7645>\u001b[0m in \u001b[0;36m<module>\u001b[0;34m()\u001b[0m\n\u001b[1;32m      2\u001b[0m \u001b[0mtask_list\u001b[0m\u001b[0;34m=\u001b[0m\u001b[0;34m'job_output/190627-ajasja_setup_alanine_scanning/task.list'\u001b[0m\u001b[0;34m\u001b[0m\u001b[0;34m\u001b[0m\u001b[0m\n\u001b[1;32m      3\u001b[0m \u001b[0mnum_tasks\u001b[0m \u001b[0;34m=\u001b[0m \u001b[0mget_ipython\u001b[0m\u001b[0;34m(\u001b[0m\u001b[0;34m)\u001b[0m\u001b[0;34m.\u001b[0m\u001b[0mgetoutput\u001b[0m\u001b[0;34m(\u001b[0m\u001b[0;34m'wc -l <{task_list}'\u001b[0m\u001b[0;34m)\u001b[0m\u001b[0;34m\u001b[0m\u001b[0;34m\u001b[0m\u001b[0m\n\u001b[0;32m----> 4\u001b[0;31m \u001b[0mnum_tasks\u001b[0m \u001b[0;34m=\u001b[0m \u001b[0mint\u001b[0m\u001b[0;34m(\u001b[0m\u001b[0mnum_tasks\u001b[0m\u001b[0;34m[\u001b[0m\u001b[0;36m0\u001b[0m\u001b[0;34m]\u001b[0m\u001b[0;34m)\u001b[0m\u001b[0;34m\u001b[0m\u001b[0;34m\u001b[0m\u001b[0m\n\u001b[0m",
      "\u001b[0;31mValueError\u001b[0m: invalid literal for int() with base 10: '/bin/bash: job_output/190627-ajasja_setup_alanine_scanning/task.list: No such file or directory'"
     ]
    }
   ],
   "source": [
    "GROUP_SIZE=20\n",
    "task_list='{job_dir}/task.list'\n",
    "num_tasks = !wc -l <{task_list}\n",
    "num_tasks = int(num_tasks[0])"
   ]
  },
  {
   "cell_type": "code",
   "execution_count": 66,
   "metadata": {},
   "outputs": [
    {
     "ename": "TypeError",
     "evalue": "unsupported operand type(s) for /: 'SList' and 'int'",
     "output_type": "error",
     "traceback": [
      "\u001b[0;31m---------------------------------------------------------------------------\u001b[0m",
      "\u001b[0;31mTypeError\u001b[0m                                 Traceback (most recent call last)",
      "\u001b[0;32m<ipython-input-66-d547de69919b>\u001b[0m in \u001b[0;36m<module>\u001b[0;34m()\u001b[0m\n\u001b[0;32m----> 1\u001b[0;31m \u001b[0;32mfrom\u001b[0m \u001b[0mmath\u001b[0m \u001b[0;32mimport\u001b[0m \u001b[0mceil\u001b[0m\u001b[0;34m;\u001b[0m \u001b[0mnum_jobs\u001b[0m \u001b[0;34m=\u001b[0m \u001b[0mceil\u001b[0m\u001b[0;34m(\u001b[0m\u001b[0mnum_tasks\u001b[0m\u001b[0;34m/\u001b[0m\u001b[0mGROUP_SIZE\u001b[0m\u001b[0;34m)\u001b[0m\u001b[0;34m\u001b[0m\u001b[0;34m\u001b[0m\u001b[0m\n\u001b[0m\u001b[1;32m      2\u001b[0m \u001b[0mnum_jobs\u001b[0m\u001b[0;34m\u001b[0m\u001b[0;34m\u001b[0m\u001b[0m\n",
      "\u001b[0;31mTypeError\u001b[0m: unsupported operand type(s) for /: 'SList' and 'int'"
     ]
    }
   ],
   "source": [
    "from math import ceil; num_jobs = ceil(num_tasks/GROUP_SIZE)\n",
    "num_jobs"
   ]
  },
  {
   "cell_type": "code",
   "execution_count": 54,
   "metadata": {},
   "outputs": [
    {
     "name": "stdout",
     "output_type": "stream",
     "text": [
      "Submitted batch job 19886736\n"
     ]
    }
   ],
   "source": [
    "!export GROUP_SIZE={GROUP_SIZE}; sbatch --mem=4GB -p short -J {task_list} -o {task_list}.out -e {task_list}.err -a 1-{num_jobs} wrapper_digs_array_job_group.sh {task_list} "
   ]
  },
  {
   "cell_type": "code",
   "execution_count": 57,
   "metadata": {},
   "outputs": [
    {
     "name": "stdout",
     "output_type": "stream",
     "text": [
      "             JOBID PARTITION     NAME     USER ST       TIME  NODES NODELIST(REASON)\n"
     ]
    }
   ],
   "source": [
    "!squeue -u ajasja"
   ]
  },
  {
   "cell_type": "code",
   "execution_count": null,
   "metadata": {},
   "outputs": [],
   "source": []
  }
 ],
 "metadata": {
  "kernelspec": {
   "display_name": "Python 3",
   "language": "python",
   "name": "python3"
  },
  "language_info": {
   "codemirror_mode": {
    "name": "ipython",
    "version": 3
   },
   "file_extension": ".py",
   "mimetype": "text/x-python",
   "name": "python",
   "nbconvert_exporter": "python",
   "pygments_lexer": "ipython3",
   "version": "3.6.8"
  }
 },
 "nbformat": 4,
 "nbformat_minor": 2
}
